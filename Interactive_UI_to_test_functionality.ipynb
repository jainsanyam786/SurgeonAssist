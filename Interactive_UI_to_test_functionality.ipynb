{
 "cells": [
  {
   "cell_type": "code",
   "execution_count": null,
   "metadata": {},
   "outputs": [],
   "source": [
    "import numpy as np\n",
    "from flask import Flask, flash, request, redirect, url_for, render_template, session, send_from_directory, Markup\n",
    "from tensorflow import keras\n",
    "#from tensorflow .keras.models import Model\n",
    "#from tensorflow.keras.models import Sequential\n",
    "#from tensorflow.keras import initializers\n",
    "#from tensorflow.keras.optimizers import Adam\n",
    "#from tensorflow.keras.layers import Dense, GlobalAveragePooling2D, Dropout\n",
    "#from tensorflow.keras.applications.mobilenet import MobileNet, preprocess_input\n",
    "from tensorflow.keras.models import load_model\n",
    "import matplotlib.pyplot as plt\n",
    "import requests\n",
    "from PIL import Image\n",
    "import re\n",
    "import cv2\n",
    "import os\n",
    "from IPython.display import Image\n",
    "import time\n",
    "import pandas as pd\n",
    "import ipywidgets as widgets\n",
    "from ipywidgets import interact, interact_manual\n",
    "labels = {0: 'curvedMayoScissor',1: 'scalpel',2: 'straightDissectionClamp',3: 'straightMayoScissor'}\n",
    "ins = []\n",
    "model = load_model(\"best_surgeonassist_V4_hdf5\")\n",
    "fdir=\"user_upload/\""
   ]
  },
  {
   "cell_type": "code",
   "execution_count": null,
   "metadata": {},
   "outputs": [],
   "source": [
    "##interactive method to select files and add to list (test1,test2.....)\n",
    "\n",
    "@interact\n",
    "def addtolist(file=os.listdir('user_upload/')):\n",
    "    display(Image(fdir+file))\n",
    "    frame = cv2.imread(fdir+file)\n",
    "    frame = cv2.cvtColor(frame, cv2.COLOR_RGBA2RGB)\n",
    "    frame = cv2.resize(frame, (224,224))\n",
    "    im2 = keras.applications.mobilenet.preprocess_input(frame)\n",
    "    im2 = keras.applications.mobilenet.preprocess_input(frame)\n",
    "    Pred = model.predict(im2.reshape(1,224,224,3))\n",
    "    Prediction = np.argmax(Pred)\n",
    "    print(\"Predicted class is \" ,Prediction)\n",
    "    query =labels[Prediction]\n",
    "    print(\"Surgical isntrument is \" , query)\n",
    "    ins.append(query)\n",
    "    print(\"Scanned item is \" + query + \"\\n\" + query+ \" is added to list\\n\"+\"list includes \" + str(ins))\n",
    "    "
   ]
  },
  {
   "cell_type": "code",
   "execution_count": null,
   "metadata": {},
   "outputs": [],
   "source": [
    "##interactive method to select files and remove from list (test1,test2.....)\n",
    "\n",
    "@interact\n",
    "def removefromlist(file=os.listdir('user_upload/')):\n",
    "    display(Image(fdir+file))\n",
    "    frame = cv2.imread(fdir+file)\n",
    "    frame = cv2.cvtColor(frame, cv2.COLOR_RGBA2RGB)\n",
    "    frame = cv2.resize(frame, (224,224))\n",
    "    im2 = keras.applications.mobilenet.preprocess_input(frame)\n",
    "    im2 = keras.applications.mobilenet.preprocess_input(frame)\n",
    "    Pred = model.predict(im2.reshape(1,224,224,3))\n",
    "    Prediction = np.argmax(Pred)\n",
    "    print(\"Predicted class is \" ,Prediction)\n",
    "    query =labels[Prediction]\n",
    "    print(\"Surgical isntrument is \" , query)\n",
    "    if query not in ins :\n",
    "        print(\"Tool is not in list\")\n",
    "    else:    \n",
    "        ins.remove(query)\n",
    "        print(\"Scanned item is \" + query + \"\\n\" + query+ \" is removed to list\\n\"+\"list includes \" + str(ins))"
   ]
  },
  {
   "cell_type": "code",
   "execution_count": null,
   "metadata": {},
   "outputs": [],
   "source": []
  },
  {
   "cell_type": "code",
   "execution_count": null,
   "metadata": {},
   "outputs": [],
   "source": []
  }
 ],
 "metadata": {
  "kernelspec": {
   "display_name": "Python 3",
   "language": "python",
   "name": "python3"
  },
  "language_info": {
   "codemirror_mode": {
    "name": "ipython",
    "version": 3
   },
   "file_extension": ".py",
   "mimetype": "text/x-python",
   "name": "python",
   "nbconvert_exporter": "python",
   "pygments_lexer": "ipython3",
   "version": "3.8.3"
  }
 },
 "nbformat": 4,
 "nbformat_minor": 2
}
